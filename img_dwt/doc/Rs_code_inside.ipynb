{
 "cells": [
  {
   "cell_type": "markdown",
   "metadata": {},
   "source": [
    "- # RS码\n",
    "\n",
    "[python 模块](https://pypi.org/project/unireedsolomon/)\n",
    "[易懂的介绍](https://www.cs.cmu.edu/~guyb/realworld/reedsolomon/reed_solomon_codes.html)"
   ]
  },
  {
   "cell_type": "markdown",
   "metadata": {},
   "source": [
    "- 8 进制 RS 码最长码字长度为 2^8-1，为255字节，经典的RS码是RS(255, 223)，可以纠正16 个字节错误\n",
    "\n",
    "- 按行编码还是按列编码？"
   ]
  }
 ],
 "metadata": {
  "kernelspec": {
   "display_name": "Python 3",
   "language": "python",
   "name": "python3"
  },
  "language_info": {
   "codemirror_mode": {
    "name": "ipython",
    "version": 2
   },
   "file_extension": ".py",
   "mimetype": "text/x-python",
   "name": "python",
   "nbconvert_exporter": "python",
   "pygments_lexer": "ipython2",
   "version": "2.7.15"
  }
 },
 "nbformat": 4,
 "nbformat_minor": 2
}
